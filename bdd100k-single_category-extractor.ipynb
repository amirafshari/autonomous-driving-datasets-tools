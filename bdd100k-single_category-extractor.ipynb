{
 "cells": [
  {
   "cell_type": "code",
   "execution_count": 29,
   "id": "34373788-82ba-4de7-a69d-37958ea5c035",
   "metadata": {},
   "outputs": [],
   "source": [
    "import json\n",
    "import os\n",
    "import shutil\n",
    "import numpy as np\n",
    "from tensorflow import keras\n",
    "from tensorflow.keras.models import load_model\n",
    "from keras.preprocessing.image import img_to_array\n",
    "import cv2"
   ]
  },
  {
   "cell_type": "code",
   "execution_count": 86,
   "id": "c9a0d849-7293-43c2-9208-edbaf99ff0a1",
   "metadata": {},
   "outputs": [],
   "source": [
    "f = open('labels/train.json')\n",
    "train = json.load(f)"
   ]
  },
  {
   "cell_type": "markdown",
   "id": "e93f06a8-270e-4e91-932a-362d60adb661",
   "metadata": {},
   "source": [
    "## Select Images Including Traffic Lights"
   ]
  },
  {
   "cell_type": "code",
   "execution_count": 101,
   "id": "0fd0055a-d88d-4f5f-a2bb-7c9c04c714a9",
   "metadata": {},
   "outputs": [],
   "source": [
    "# select images including traffic_lights\n",
    "traffic_lights = {}\n",
    "for item in train:\n",
    "    name = item['name']\n",
    "    \n",
    "    for label in item['labels']:\n",
    "        if label['category'] == 'traffic light':\n",
    "            traffic_lights[name] = []\n",
    "            break\n",
    "    for label in item['labels']:        \n",
    "        if label['category'] == 'traffic light':\n",
    "            bbox = label['box2d']\n",
    "            traffic_lights[name].append(bbox)\n",
    "            \n",
    "\n",
    "# copy them to another folder\n",
    "for img in traffic_lights:\n",
    "    shutil.copyfile('bdd100k/'+img, 'traffic_lights/'+img)"
   ]
  },
  {
   "cell_type": "markdown",
   "id": "b1a9f21f-2518-4243-a108-fcd0cd58ac5f",
   "metadata": {},
   "source": [
    "## Day-Night Classification"
   ]
  },
  {
   "cell_type": "code",
   "execution_count": 73,
   "id": "c0c23e7f-d12b-4dba-8f6d-132f435c9b61",
   "metadata": {},
   "outputs": [],
   "source": [
    "model = load_model('day_night.hd5')"
   ]
  },
  {
   "cell_type": "code",
   "execution_count": 102,
   "id": "b9732253-33a2-4e6f-b82b-f050b771d588",
   "metadata": {},
   "outputs": [],
   "source": [
    "# It takes a while!\n",
    "# 0 = night , 1 = day\n",
    "for img in os.listdir('traffic_lights'):\n",
    "    \n",
    "    image = cv2.imread('traffic_lights/'+img)\n",
    "    image = cv2.resize(image, (28, 28))\n",
    "    image = image.astype(\"float\") / 255.0\n",
    "    image = img_to_array(image)\n",
    "    image = np.expand_dims(image, axis=0)\n",
    "    \n",
    "    label = model.predict(image)\n",
    "    \n",
    "    if label[0][0] > label[0][1]:\n",
    "        traffic_lights[img].append(0)\n",
    "    else:\n",
    "        traffic_lights[img].append(1)"
   ]
  },
  {
   "cell_type": "code",
   "execution_count": 108,
   "id": "c5e8aed9-74d8-4917-9d13-931b449d6907",
   "metadata": {},
   "outputs": [],
   "source": [
    "tl = traffic_lights\n",
    "\n",
    "# Remove night images from dic\n",
    "for key, value in tl.copy().items():\n",
    "    if value[-1] == 0:\n",
    "        del tl[key]\n",
    "        \n",
    "# Copy day images to another folder        \n",
    "for key in tl:\n",
    "    shutil.copyfile('traffic_lights/'+key, 'traffic_lights_day/'+key)"
   ]
  },
  {
   "cell_type": "markdown",
   "id": "121e669c-d38f-40db-b013-e29ab04b2e96",
   "metadata": {},
   "source": [
    "## Convert Annotation"
   ]
  },
  {
   "cell_type": "code",
   "execution_count": 126,
   "id": "65c7ca84-cdcf-4b37-b4f0-fd12a52e44e6",
   "metadata": {},
   "outputs": [],
   "source": [
    "# remove label\n",
    "for value in tl.values():\n",
    "    del value[-1]\n",
    "    \n",
    "# save annotations\n",
    "with open('day_traffic_lights.json', 'w') as fp:\n",
    "    json.dump(tl, fp)"
   ]
  },
  {
   "cell_type": "code",
   "execution_count": 25,
   "id": "7dffb687-80f5-4b2e-a709-27e620219946",
   "metadata": {},
   "outputs": [],
   "source": [
    "f = open('day_traffic_lights.json')\n",
    "train = json.load(f)"
   ]
  },
  {
   "cell_type": "code",
   "execution_count": 26,
   "id": "17bd6598-a0a6-404d-a95c-c79316c15f8c",
   "metadata": {},
   "outputs": [],
   "source": [
    "# [xmin, ymin, xmax, ymax] > [xcenter, ycenter, objwidth, objheight]\n",
    "for name, value in train.items():\n",
    "    # check image sizes\n",
    "    im = cv2.imread('traffic_lights_day/'+name)\n",
    "    h, w, c = im.shape\n",
    "    \n",
    "    for i, obj in enumerate(value):\n",
    "        value[i] = [ 1, (obj['x2'] + obj['x1']) / (2*w), (obj['y2'] + obj['y1']) / (2*h), (obj['x2'] - obj['x1']) / w, (obj['y2'] - obj['y1']) / h]"
   ]
  },
  {
   "cell_type": "code",
   "execution_count": 32,
   "id": "4dc6c92d-f132-402c-88ea-2b181b850c99",
   "metadata": {},
   "outputs": [],
   "source": [
    "# save them\n",
    "fmt = '%.10g'\n",
    "\n",
    "for name, obj in train.items():\n",
    "    np.savetxt('labels/'+name.replace(name[-4:],'.txt'), obj, newline='\\n',fmt=fmt)"
   ]
  },
  {
   "cell_type": "code",
   "execution_count": null,
   "id": "eb4b0cfb-0f13-46f6-acf4-06d7449c27af",
   "metadata": {},
   "outputs": [],
   "source": []
  }
 ],
 "metadata": {
  "kernelspec": {
   "display_name": "Python 3 (ipykernel)",
   "language": "python",
   "name": "python3"
  },
  "language_info": {
   "codemirror_mode": {
    "name": "ipython",
    "version": 3
   },
   "file_extension": ".py",
   "mimetype": "text/x-python",
   "name": "python",
   "nbconvert_exporter": "python",
   "pygments_lexer": "ipython3",
   "version": "3.8.10"
  }
 },
 "nbformat": 4,
 "nbformat_minor": 5
}
