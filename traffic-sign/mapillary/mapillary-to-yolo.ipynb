{
 "cells": [
  {
   "cell_type": "code",
   "execution_count": 29,
   "id": "b9ab5e86-4404-4e78-99f7-54ff30334d27",
   "metadata": {},
   "outputs": [],
   "source": [
    "import numpy as np\n",
    "import shutil\n",
    "import json\n",
    "import os"
   ]
  },
  {
   "cell_type": "code",
   "execution_count": 17,
   "id": "4e46bd95-c26c-41c8-ab09-c728bd7b202a",
   "metadata": {},
   "outputs": [],
   "source": [
    "annotations_path = 'mtsd_fully_annotated_annotation/mtsd_v2_fully_annotated/annotations/'\n",
    "set_path = 'mtsd_fully_annotated_annotation/mtsd_v2_fully_annotated/splits/val.txt'\n",
    "\n",
    "new_path = 'mtsd_fully_annotated_annotation/mtsd_v2_fully_annotated/val/'\n",
    "yolo_path = 'mtsd_fully_annotated_annotation/mtsd_v2_fully_annotated/yolo/'"
   ]
  },
  {
   "cell_type": "code",
   "execution_count": 8,
   "id": "3226f17b-6a9d-4ea1-94ce-714fcfd1680d",
   "metadata": {},
   "outputs": [],
   "source": [
    "val = np.loadtxt(set_path, dtype='str')"
   ]
  },
  {
   "cell_type": "code",
   "execution_count": 16,
   "id": "5de73a7a-ccd3-4330-9bca-20e2fe6c096c",
   "metadata": {},
   "outputs": [],
   "source": [
    "for file in val:\n",
    "    shutil.move(annotations_path+file+'.json', new_path)"
   ]
  },
  {
   "cell_type": "code",
   "execution_count": 33,
   "id": "b491404e-18e2-48db-9098-9c35821843bb",
   "metadata": {},
   "outputs": [],
   "source": [
    "annotations = {}\n",
    "for file in os.listdir(new_path):\n",
    "    with open(new_path+file) as f:\n",
    "        name = file.replace(file[-5:], '')\n",
    "        annotations[name] = []\n",
    "        ann = json.load(f)\n",
    "        objects = ann['objects']\n",
    "        for obj in objects:\n",
    "            w = ann['width']\n",
    "            h = ann['height']\n",
    "            xmin = obj['bbox']['xmin']\n",
    "            xmax = obj['bbox']['xmax']\n",
    "            ymin = obj['bbox']['ymin']\n",
    "            ymax = obj['bbox']['ymax']\n",
    "            obj = [ int(0), (xmax + xmin) / (2*w), (ymax + ymin) / (2*h), (xmax - xmin) / w, (ymax - ymin) / h]\n",
    "            annotations[name].append(obj)\n"
   ]
  },
  {
   "cell_type": "code",
   "execution_count": 38,
   "id": "a03270cd-2218-4603-bae7-552973874cb7",
   "metadata": {},
   "outputs": [],
   "source": [
    "fmt = '%.10g'\n",
    "\n",
    "for name, obj in annotations.items():\n",
    "    np.savetxt(yolo_path+name+'.txt', obj, newline='\\n',fmt=fmt)"
   ]
  },
  {
   "cell_type": "code",
   "execution_count": null,
   "id": "da224cdb-a59d-4d6a-b836-11535d27131f",
   "metadata": {},
   "outputs": [],
   "source": []
  }
 ],
 "metadata": {
  "kernelspec": {
   "display_name": "Python 3 (ipykernel)",
   "language": "python",
   "name": "python3"
  },
  "language_info": {
   "codemirror_mode": {
    "name": "ipython",
    "version": 3
   },
   "file_extension": ".py",
   "mimetype": "text/x-python",
   "name": "python",
   "nbconvert_exporter": "python",
   "pygments_lexer": "ipython3",
   "version": "3.8.10"
  }
 },
 "nbformat": 4,
 "nbformat_minor": 5
}
