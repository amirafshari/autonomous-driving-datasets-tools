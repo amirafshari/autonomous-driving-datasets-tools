{
 "cells": [
  {
   "cell_type": "code",
   "execution_count": 36,
   "id": "c8ccabd7-5411-4508-8b9a-f9934ebd2a8c",
   "metadata": {},
   "outputs": [],
   "source": [
    "import pandas as pd\n",
    "import json\n",
    "import os\n",
    "import cv2\n",
    "import pandas as pd\n",
    "import numpy as np"
   ]
  },
  {
   "cell_type": "code",
   "execution_count": 74,
   "id": "85356d84-beaa-4cd4-bdcf-ec3957aafc46",
   "metadata": {},
   "outputs": [],
   "source": [
    "# read annotation files\n",
    "data = json.load(open('annotations.json'))\n",
    "data = data['imgs']"
   ]
  },
  {
   "cell_type": "code",
   "execution_count": 75,
   "id": "c22d6bb5-5498-4fd7-8317-7534a52d415d",
   "metadata": {
    "tags": []
   },
   "outputs": [],
   "source": [
    "# store them\n",
    "annotations = {}\n",
    "for key, value in data.items():\n",
    "    if len(value['objects']) != 0:\n",
    "        path = value['path']\n",
    "        objects = []\n",
    "        for e in value['objects']:\n",
    "            objects.append(e['bbox'])\n",
    "            \n",
    "        annotations[key] = objects"
   ]
  },
  {
   "cell_type": "code",
   "execution_count": 31,
   "id": "6ec6f1cc-fdb0-4955-a5d6-74748047998c",
   "metadata": {
    "collapsed": true,
    "jupyter": {
     "outputs_hidden": true
    },
    "tags": []
   },
   "outputs": [
    {
     "ename": "KeyboardInterrupt",
     "evalue": "",
     "output_type": "error",
     "traceback": [
      "\u001b[0;31m---------------------------------------------------------------------------\u001b[0m",
      "\u001b[0;31mKeyboardInterrupt\u001b[0m                         Traceback (most recent call last)",
      "\u001b[0;32m/tmp/ipykernel_178397/1244710839.py\u001b[0m in \u001b[0;36m<module>\u001b[0;34m\u001b[0m\n\u001b[1;32m      4\u001b[0m \u001b[0;32mfor\u001b[0m \u001b[0me\u001b[0m \u001b[0;32min\u001b[0m \u001b[0mos\u001b[0m\u001b[0;34m.\u001b[0m\u001b[0mlistdir\u001b[0m\u001b[0;34m(\u001b[0m\u001b[0;34m'./other'\u001b[0m\u001b[0;34m)\u001b[0m\u001b[0;34m:\u001b[0m\u001b[0;34m\u001b[0m\u001b[0;34m\u001b[0m\u001b[0m\n\u001b[1;32m      5\u001b[0m     \u001b[0mim_names\u001b[0m\u001b[0;34m.\u001b[0m\u001b[0mappend\u001b[0m\u001b[0;34m(\u001b[0m\u001b[0me\u001b[0m\u001b[0;34m)\u001b[0m\u001b[0;34m\u001b[0m\u001b[0;34m\u001b[0m\u001b[0m\n\u001b[0;32m----> 6\u001b[0;31m     \u001b[0mim\u001b[0m \u001b[0;34m=\u001b[0m \u001b[0mcv2\u001b[0m\u001b[0;34m.\u001b[0m\u001b[0mimread\u001b[0m\u001b[0;34m(\u001b[0m\u001b[0;34mf'./other/{e}'\u001b[0m\u001b[0;34m)\u001b[0m\u001b[0;34m\u001b[0m\u001b[0;34m\u001b[0m\u001b[0m\n\u001b[0m\u001b[1;32m      7\u001b[0m     \u001b[0mh\u001b[0m\u001b[0;34m,\u001b[0m \u001b[0mw\u001b[0m\u001b[0;34m,\u001b[0m \u001b[0mc\u001b[0m \u001b[0;34m=\u001b[0m \u001b[0mim\u001b[0m\u001b[0;34m.\u001b[0m\u001b[0mshape\u001b[0m\u001b[0;34m\u001b[0m\u001b[0;34m\u001b[0m\u001b[0m\n\u001b[1;32m      8\u001b[0m     \u001b[0msizes\u001b[0m\u001b[0;34m.\u001b[0m\u001b[0mappend\u001b[0m\u001b[0;34m(\u001b[0m\u001b[0;34m[\u001b[0m\u001b[0mh\u001b[0m\u001b[0;34m,\u001b[0m\u001b[0mw\u001b[0m\u001b[0;34m]\u001b[0m\u001b[0;34m)\u001b[0m\u001b[0;34m\u001b[0m\u001b[0;34m\u001b[0m\u001b[0m\n",
      "\u001b[0;31mKeyboardInterrupt\u001b[0m: "
     ]
    }
   ],
   "source": [
    "# check img sizes\n",
    "im_names = []\n",
    "sizes = []\n",
    "for e in os.listdir('./other'):\n",
    "    im_names.append(e)\n",
    "    im = cv2.imread(f'./other/{e}')\n",
    "    h, w, c = im.shape\n",
    "    # in this case: h,w = 2048\n",
    "    sizes.append([h,w])\n",
    "\n",
    "# are they all the same?\n",
    "pd.DataFrame(sizes).value_counts()"
   ]
  },
  {
   "cell_type": "code",
   "execution_count": 76,
   "id": "24f4f36a-ad18-44ac-9a47-af61bad3e92a",
   "metadata": {},
   "outputs": [],
   "source": [
    "# {'imgage name' : [[obj1], [obj2], [objn]] }\n",
    "objects = {}\n",
    "for key, obj in annotations.items():\n",
    "    obj_list = []\n",
    "    for e in obj:\n",
    "        # [xmin, ymin, ymax, xmax]\n",
    "        # obj_list.append([e['xmin'], e['ymin'], e['ymax'], e['xmax']])\n",
    "        # [xcenter, ycenter, objwidth, objheight]\n",
    "        obj_list.append([0, (e['xmin'] + e['xmax']) / 2*2048, (e['ymin'] + e['ymax']) / 2*2048, (e['ymax'] - e['ymin']) / 2048, (e['xmax'] - e['xmin']) / 2048])\n",
    "    objects[key] = obj_list"
   ]
  },
  {
   "cell_type": "code",
   "execution_count": 77,
   "id": "ca77e9dc-164c-4b7c-b0a1-e44c05743b29",
   "metadata": {},
   "outputs": [],
   "source": [
    "# save them as txt\n",
    "fmt = '%.10g'\n",
    "\n",
    "for name, obj in objects.items():\n",
    "    np.savetxt(f'./other/{name}.txt', obj, newline='\\n',fmt=fmt)"
   ]
  },
  {
   "cell_type": "code",
   "execution_count": 79,
   "id": "a8913fe1-6fad-4629-9c73-edf8f6d29850",
   "metadata": {},
   "outputs": [],
   "source": [
    "# because of our corrupted file there are some mismatches between .jpg and .txt files, we want to pair them and delete th rest\n",
    "for e in os.listdir('./other'):\n",
    "    if (e.endswith('.txt')):\n",
    "        if e.replace(e[-4:],'.jpg') not in os.listdir('./other'):\n",
    "            os.remove(f'./other/{e}')"
   ]
  },
  {
   "cell_type": "code",
   "execution_count": 80,
   "id": "36228812-ede0-433b-ac2e-86b0ed69e9a8",
   "metadata": {},
   "outputs": [],
   "source": [
    "for e in os.listdir('./other'):\n",
    "    if (e.endswith('.jpg')):\n",
    "        if e.replace(e[-4:],'.txt') not in os.listdir('./other'):\n",
    "            os.remove(f'./other/{e}')"
   ]
  },
  {
   "cell_type": "code",
   "execution_count": null,
   "id": "ecb632d9-b3b4-4e23-bcc5-35d94da1cac8",
   "metadata": {},
   "outputs": [],
   "source": []
  }
 ],
 "metadata": {
  "kernelspec": {
   "display_name": "Python 3 (ipykernel)",
   "language": "python",
   "name": "python3"
  },
  "language_info": {
   "codemirror_mode": {
    "name": "ipython",
    "version": 3
   },
   "file_extension": ".py",
   "mimetype": "text/x-python",
   "name": "python",
   "nbconvert_exporter": "python",
   "pygments_lexer": "ipython3",
   "version": "3.8.10"
  }
 },
 "nbformat": 4,
 "nbformat_minor": 5
}
