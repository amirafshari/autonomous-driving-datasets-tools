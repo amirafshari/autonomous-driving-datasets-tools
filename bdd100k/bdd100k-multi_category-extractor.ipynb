{
 "cells": [
  {
   "cell_type": "code",
   "execution_count": 53,
   "id": "34373788-82ba-4de7-a69d-37958ea5c035",
   "metadata": {},
   "outputs": [],
   "source": [
    "import json\n",
    "import os\n",
    "import shutil\n",
    "import glob\n",
    "import numpy as np\n",
    "from tensorflow import keras\n",
    "from tensorflow.keras.models import load_model\n",
    "from keras.preprocessing.image import img_to_array\n",
    "import cv2"
   ]
  },
  {
   "cell_type": "code",
   "execution_count": null,
   "id": "fea74144-8ed0-44b6-bef8-2f6bd86a9c70",
   "metadata": {},
   "outputs": [],
   "source": [
    "# specify th paths\n",
    "os.mkdir('objects')\n",
    "os.mkdir('merged')\n",
    "os.mkdir('day')\n",
    "os.mkdir('obj_labels')"
   ]
  },
  {
   "cell_type": "code",
   "execution_count": 74,
   "id": "4fe284a2-85ee-46b8-8130-24601123229c",
   "metadata": {},
   "outputs": [],
   "source": [
    "label_path = 'archive/bdd100k_labels_release/bdd100k/labels/bdd100k_labels_images_train.json'\n",
    "image_path = 'archive/bdd100k/bdd100k/images/100k/'\n",
    "\n",
    "new_path = 'merged/'\n",
    "day_path = 'day/'\n",
    "objects_path = 'objects/'\n",
    "obj_labels = 'obj_labels/'"
   ]
  },
  {
   "cell_type": "code",
   "execution_count": 59,
   "id": "1d082ec2-b833-4ac5-a6f2-f5e64d6f35f9",
   "metadata": {},
   "outputs": [],
   "source": [
    "# Move all images in image_path to new_path\n",
    "for img in glob.glob(image_path + '/**/*.jpg', recursive = True):\n",
    "    shutil.move(img, new_path)"
   ]
  },
  {
   "cell_type": "code",
   "execution_count": 7,
   "id": "c9a0d849-7293-43c2-9208-edbaf99ff0a1",
   "metadata": {},
   "outputs": [],
   "source": [
    "# load labels\n",
    "f = open(label_path)\n",
    "train = json.load(f)"
   ]
  },
  {
   "cell_type": "markdown",
   "id": "e93f06a8-270e-4e91-932a-362d60adb661",
   "metadata": {},
   "source": [
    "## Select Images Including Our Objects"
   ]
  },
  {
   "cell_type": "code",
   "execution_count": 43,
   "id": "0fd0055a-d88d-4f5f-a2bb-7c9c04c714a9",
   "metadata": {},
   "outputs": [],
   "source": [
    "# select images including traffic_lights\n",
    "\n",
    "categories = ['traffic sign', 'traffic light']\n",
    "objects = {}\n",
    "\n",
    "for item in train:\n",
    "    name = item['name']\n",
    "    \n",
    "    # this loops checks the existence of all our custom objects in an image,\n",
    "    # if there are, it creates an empty list for that image and breaks\n",
    "    obj_list = []\n",
    "    for label in item['labels']:\n",
    "        if label['category'] in categories:\n",
    "            obj_list.append(label['category'])\n",
    "            if set(obj_list) == set(categories):\n",
    "                objects[name] = []\n",
    "                break"
   ]
  },
  {
   "cell_type": "code",
   "execution_count": 44,
   "id": "fed4fad5-8f8b-4f4e-a9d6-8704b873a059",
   "metadata": {},
   "outputs": [],
   "source": [
    "# It takes a while!\n",
    "for key in objects.keys():\n",
    "    for item in train:\n",
    "        if key == item['name']:\n",
    "            for label in item['labels']:\n",
    "                \n",
    "                if label['category'] == categories[0]:\n",
    "                    label['box2d']['id'] = 0\n",
    "                    bbox = label['box2d']\n",
    "                    objects[key].append(bbox)\n",
    "                    \n",
    "                if label['category'] == categories[1]:\n",
    "                    label['box2d']['id'] = 1\n",
    "                    bbox = label['box2d']\n",
    "                    objects[key].append(bbox)"
   ]
  },
  {
   "cell_type": "code",
   "execution_count": 62,
   "id": "5f61e8d3-01f1-4a4a-b317-3f41badf1107",
   "metadata": {},
   "outputs": [],
   "source": [
    "# move them to another folder\n",
    "for img in objects:\n",
    "    shutil.move(os.path.join(new_path+img), os.path.join(objects_path,img))"
   ]
  },
  {
   "cell_type": "markdown",
   "id": "b1a9f21f-2518-4243-a108-fcd0cd58ac5f",
   "metadata": {},
   "source": [
    "## Day-Night Classification"
   ]
  },
  {
   "cell_type": "code",
   "execution_count": 66,
   "id": "c0c23e7f-d12b-4dba-8f6d-132f435c9b61",
   "metadata": {},
   "outputs": [],
   "source": [
    "model = load_model('day_night.hd5')"
   ]
  },
  {
   "cell_type": "code",
   "execution_count": 67,
   "id": "266be105-84fa-4f4a-b255-da47b57c0b80",
   "metadata": {},
   "outputs": [],
   "source": [
    "objs = objects"
   ]
  },
  {
   "cell_type": "code",
   "execution_count": 68,
   "id": "b9732253-33a2-4e6f-b82b-f050b771d588",
   "metadata": {},
   "outputs": [
    {
     "name": "stderr",
     "output_type": "stream",
     "text": [
      "2021-12-04 11:08:22.127260: I tensorflow/compiler/mlir/mlir_graph_optimization_pass.cc:185] None of the MLIR Optimization Passes are enabled (registered 2)\n",
      "2021-12-04 11:08:23.211424: I tensorflow/stream_executor/cuda/cuda_dnn.cc:369] Loaded cuDNN version 8204\n"
     ]
    }
   ],
   "source": [
    "# It takes a while!\n",
    "# 0 = night , 1 = day\n",
    "for img in os.listdir(objects_path):\n",
    "    \n",
    "    image = cv2.imread(objects_path+img)\n",
    "    image = cv2.resize(image, (28, 28))\n",
    "    image = image.astype(\"float\") / 255.0\n",
    "    image = img_to_array(image)\n",
    "    image = np.expand_dims(image, axis=0)\n",
    "    \n",
    "    label = model.predict(image)\n",
    "    \n",
    "    if label[0][0] > label[0][1]:\n",
    "        objs[img].append(0)\n",
    "    else:\n",
    "        objs[img].append(1)"
   ]
  },
  {
   "cell_type": "code",
   "execution_count": 69,
   "id": "c5e8aed9-74d8-4917-9d13-931b449d6907",
   "metadata": {},
   "outputs": [],
   "source": [
    "obj = objs\n",
    "\n",
    "# Remove night images from dic\n",
    "for key, value in obj.copy().items():\n",
    "    if value[-1] == 0:\n",
    "        del obj[key]\n",
    "        \n",
    "# Move day images to another folder        \n",
    "for key in obj:\n",
    "    shutil.move(objects_path+key, day_path)"
   ]
  },
  {
   "cell_type": "markdown",
   "id": "121e669c-d38f-40db-b013-e29ab04b2e96",
   "metadata": {},
   "source": [
    "## Convert Annotation"
   ]
  },
  {
   "cell_type": "code",
   "execution_count": 70,
   "id": "65c7ca84-cdcf-4b37-b4f0-fd12a52e44e6",
   "metadata": {},
   "outputs": [],
   "source": [
    "# remove label\n",
    "for value in obj.values():\n",
    "    del value[-1]\n",
    "    \n",
    "# save annotations\n",
    "with open('objects.json', 'w') as fp:\n",
    "    json.dump(obj, fp)"
   ]
  },
  {
   "cell_type": "code",
   "execution_count": 71,
   "id": "7dffb687-80f5-4b2e-a709-27e620219946",
   "metadata": {},
   "outputs": [],
   "source": [
    "f = open('objects.json')\n",
    "train = json.load(f)"
   ]
  },
  {
   "cell_type": "code",
   "execution_count": 77,
   "id": "17bd6598-a0a6-404d-a95c-c79316c15f8c",
   "metadata": {},
   "outputs": [],
   "source": [
    "# It takes a while!\n",
    "# [xmin, ymin, xmax, ymax] > [xcenter, ycenter, objwidth, objheight]\n",
    "for name, value in train.items():\n",
    "    # check image sizes\n",
    "    im = cv2.imread(day_path+name)\n",
    "    h, w, c = im.shape\n",
    "    \n",
    "    for i, obj in enumerate(value):\n",
    "        value[i] = [ obj['id'], (obj['x2'] + obj['x1']) / (2*w), (obj['y2'] + obj['y1']) / (2*h), (obj['x2'] - obj['x1']) / w, (obj['y2'] - obj['y1']) / h]"
   ]
  },
  {
   "cell_type": "code",
   "execution_count": 79,
   "id": "4dc6c92d-f132-402c-88ea-2b181b850c99",
   "metadata": {},
   "outputs": [],
   "source": [
    "# save them\n",
    "fmt = '%.10g'\n",
    "\n",
    "for name, obj in train.items():\n",
    "    np.savetxt(obj_labels+name.replace(name[-4:],'.txt'), obj, newline='\\n',fmt=fmt)"
   ]
  },
  {
   "cell_type": "code",
   "execution_count": null,
   "id": "eb4b0cfb-0f13-46f6-acf4-06d7449c27af",
   "metadata": {},
   "outputs": [],
   "source": []
  }
 ],
 "metadata": {
  "kernelspec": {
   "display_name": "Python 3 (ipykernel)",
   "language": "python",
   "name": "python3"
  },
  "language_info": {
   "codemirror_mode": {
    "name": "ipython",
    "version": 3
   },
   "file_extension": ".py",
   "mimetype": "text/x-python",
   "name": "python",
   "nbconvert_exporter": "python",
   "pygments_lexer": "ipython3",
   "version": "3.8.10"
  }
 },
 "nbformat": 4,
 "nbformat_minor": 5
}
